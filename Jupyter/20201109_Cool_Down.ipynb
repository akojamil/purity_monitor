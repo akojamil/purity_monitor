{
 "cells": [
  {
   "cell_type": "markdown",
   "metadata": {},
   "source": [
    "# Import and Setup"
   ]
  },
  {
   "cell_type": "markdown",
   "metadata": {},
   "source": [
    "Adjust cell width to view more content"
   ]
  },
  {
   "cell_type": "code",
   "execution_count": 1,
   "metadata": {},
   "outputs": [
    {
     "data": {
      "text/html": [
       "<style>.container { width:90% !important; }</style>"
      ],
      "text/plain": [
       "<IPython.core.display.HTML object>"
      ]
     },
     "metadata": {},
     "output_type": "display_data"
    }
   ],
   "source": [
    "from IPython.core.display import display, HTML\n",
    "display(HTML(\"<style>.container { width:90% !important; }</style>\"))"
   ]
  },
  {
   "cell_type": "markdown",
   "metadata": {},
   "source": [
    "Import general packages and YLXPS-related packages"
   ]
  },
  {
   "cell_type": "code",
   "execution_count": 2,
   "metadata": {},
   "outputs": [
    {
     "ename": "SyntaxError",
     "evalue": "invalid syntax (HelperClasses.py, line 21)",
     "output_type": "error",
     "traceback": [
      "Traceback \u001b[0;36m(most recent call last)\u001b[0m:\n",
      "  File \u001b[1;32m\"/gpfs/loomis/project/fas/david_moore/aj487/conda_envs/py37s/lib/python3.7/site-packages/IPython/core/interactiveshell.py\"\u001b[0m, line \u001b[1;32m3326\u001b[0m, in \u001b[1;35mrun_code\u001b[0m\n    exec(code_obj, self.user_global_ns, self.user_ns)\n",
      "\u001b[0;36m  File \u001b[0;32m\"<ipython-input-2-77aeee1ecf38>\"\u001b[0;36m, line \u001b[0;32m10\u001b[0;36m, in \u001b[0;35m<module>\u001b[0;36m\u001b[0m\n\u001b[0;31m    import HelperClasses as Dataset\u001b[0m\n",
      "\u001b[0;36m  File \u001b[0;32m\"/gpfs/loomis/project/david_moore/aj487/purity_monitor/analysis/HelperClasses.py\"\u001b[0;36m, line \u001b[0;32m21\u001b[0m\n\u001b[0;31m    print \" | Time elapsed:          \", time.clock() , \"sec\"\u001b[0m\n\u001b[0m                                     ^\u001b[0m\n\u001b[0;31mSyntaxError\u001b[0m\u001b[0;31m:\u001b[0m invalid syntax\n"
     ]
    }
   ],
   "source": [
    "import numpy as np\n",
    "import matplotlib.pyplot as plt\n",
    "import sys \n",
    "import os \n",
    "import scipy\n",
    "import importlib\n",
    "\n",
    "sys.path.insert(0, '/gpfs/loomis/project/david_moore/aj487/purity_monitor/')\n",
    "sys.path.insert(0, '/gpfs/loomis/project/david_moore/aj487/purity_monitor/analysis/')\n",
    "import HelperClasses as Dataset\n",
    "import StandMonitor as Monitor"
   ]
  },
  {
   "cell_type": "markdown",
   "metadata": {},
   "source": [
    "# Data Read-In"
   ]
  },
  {
   "cell_type": "code",
   "execution_count": null,
   "metadata": {},
   "outputs": [],
   "source": [
    "File = '/project/fas/david_moore/aj487/Data_WL110/LXe_Setup/Sensors/20201109.h5'\n",
    "Sensors = Monitor.SensorData(Filepath=File)\n",
    "Sensors.GetData()\n",
    "Sensors.PlotData(Selection='Temperature', Ticks=[0,20], XRange=0)\n",
    "Sensors.PlotData(Selection='Xenon Pressure', Ticks=[0,20], XRange=0)\n",
    "Sensors.PlotData(Selection='System Pressure', Ticks=[0,0.02], XRange=0)"
   ]
  },
  {
   "cell_type": "code",
   "execution_count": null,
   "metadata": {},
   "outputs": [],
   "source": [
    "D1 = Dataset.Dataset(Path='/project/fas/david_moore/aj487/Data_WL110/LXe_Setup/TPC/20201109/', Selection='*single*')\n",
    "D1.RunStandardAnalysis()\n",
    "D1.ShowBaselineNoise()\n",
    "D1.ShowAmplitudeVsTime()\n",
    "print(D1.Ch[0].Time[1]-D1.Ch[0].Time[0])"
   ]
  },
  {
   "cell_type": "code",
   "execution_count": null,
   "metadata": {},
   "outputs": [],
   "source": [
    "D2 = Dataset.Dataset(Path='/project/fas/david_moore/aj487/Data_WL110/LXe_Setup/TPC/20201109/', Selection='*avg*')\n",
    "D2.RunStandardAnalysis()\n",
    "D2.ShowBaselineNoise()"
   ]
  },
  {
   "cell_type": "code",
   "execution_count": null,
   "metadata": {},
   "outputs": [],
   "source": [
    "p1 = np.mean([scipy.signal.periodogram(x/1000.0, fs=D1.Ch[0].Sampling)[1] for x in D1.Ch[0].AmpClean], axis=0)\n",
    "p2 = np.mean([scipy.signal.periodogram(x/1000.0, fs=D2.Ch[0].Sampling)[1] for x in D2.Ch[0].AmpClean], axis=0)\n",
    "\n",
    "f1,_ = scipy.signal.periodogram(D1.Ch[0].AmpClean[0]/1000.0, fs=D1.Ch[0].Sampling)\n",
    "f2,_ = scipy.signal.periodogram(D2.Ch[0].AmpClean[0]/1000.0, fs=D2.Ch[0].Sampling)"
   ]
  },
  {
   "cell_type": "code",
   "execution_count": null,
   "metadata": {},
   "outputs": [],
   "source": []
  },
  {
   "cell_type": "code",
   "execution_count": null,
   "metadata": {},
   "outputs": [],
   "source": [
    "plt.semilogy(f1, p1)\n",
    "plt.semilogy(f2, p2)\n",
    "\n",
    "\n",
    "plt.xscale('log')\n",
    "plt.ylim([1e-15, 1e-6])\n",
    "plt.xlim(1E0,10E5)\n",
    "plt.xlabel('Frequency [Hz]')\n",
    "plt.ylabel(r'PSD [V${}^2$/Hz]')\n",
    "plt.show()"
   ]
  },
  {
   "cell_type": "code",
   "execution_count": null,
   "metadata": {},
   "outputs": [],
   "source": []
  }
 ],
 "metadata": {
  "kernelspec": {
   "display_name": "Python 3.6.8 64-bit",
   "metadata": {
    "interpreter": {
     "hash": "31f2aee4e71d21fbe5cf8b01ff0e069b9275f58929596ceb00d14d90e3e16cd6"
    }
   },
   "name": "python3"
  },
  "language_info": {
   "codemirror_mode": {
    "name": "ipython",
    "version": 3
   },
   "file_extension": ".py",
   "mimetype": "text/x-python",
   "name": "python",
   "nbconvert_exporter": "python",
   "pygments_lexer": "ipython3",
   "version": "3.6.8-final"
  }
 },
 "nbformat": 4,
 "nbformat_minor": 2
}