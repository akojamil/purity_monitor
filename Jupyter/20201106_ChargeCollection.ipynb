{
 "cells": [
  {
   "cell_type": "markdown",
   "metadata": {},
   "source": [
    "# Import and Setup"
   ]
  },
  {
   "cell_type": "markdown",
   "metadata": {},
   "source": [
    "Adjust cell width to view more content"
   ]
  },
  {
   "cell_type": "code",
   "execution_count": 1,
   "metadata": {},
   "outputs": [
    {
     "data": {
      "text/html": [
       "<style>.container { width:90% !important; }</style>"
      ],
      "text/plain": [
       "<IPython.core.display.HTML object>"
      ]
     },
     "metadata": {},
     "output_type": "display_data"
    }
   ],
   "source": [
    "from IPython.core.display import display, HTML\n",
    "display(HTML(\"<style>.container { width:90% !important; }</style>\"))"
   ]
  },
  {
   "cell_type": "markdown",
   "metadata": {},
   "source": [
    "Import general packages and YLXPS-related packages"
   ]
  },
  {
   "cell_type": "code",
   "execution_count": 2,
   "metadata": {},
   "outputs": [],
   "source": [
    "import numpy as np\n",
    "import matplotlib.pyplot as plt\n",
    "import sys \n",
    "sys.path.insert(0, '/gpfs/loomis/project/david_moore/aj487/purity_monitor/analysis/')\n",
    "import HelperClasses as Dataset"
   ]
  },
  {
   "cell_type": "markdown",
   "metadata": {},
   "source": [
    "# Data Read-In"
   ]
  },
  {
   "cell_type": "code",
   "execution_count": 3,
   "metadata": {
    "scrolled": false
   },
   "outputs": [
    {
     "name": "stdout",
     "output_type": "stream",
     "text": [
      " | Filename... /project/fas/david_moore/aj487/Data_WL110/LXe_Setup/TPC/20201106/Vacuum_Au-Thorslabs_C-300V_A-300V_1.h5\n",
      " | Number of files in ch1...\t 577/577\n",
      " | Number of files in ch2...\t 577/577\n",
      " | Filename... /project/fas/david_moore/aj487/Data_WL110/LXe_Setup/TPC/20201106/Vacuum_Au-Thorslabs_C-300V_A-300V_2.h5\n",
      " | Number of files in ch1...\t 60/637\n",
      " | Number of files in ch2...\t 60/637\n",
      " | Processing data in channel 1...\n",
      " | Processing data in channel 2...\n",
      " | Time elapsed:  15.406915312 sec\n"
     ]
    }
   ],
   "source": [
    "D1 = Dataset.Dataset(Path='/project/fas/david_moore/aj487/Data_WL110/LXe_Setup/TPC/20201106/', Selection='*')\n",
    "D1.RunStandardAnalysis()"
   ]
  },
  {
   "cell_type": "code",
   "execution_count": 4,
   "metadata": {},
   "outputs": [
    {
     "name": "stdout",
     "output_type": "stream",
     "text": [
      " | Filename... /project/fas/david_moore/aj487/Data_WL110/LXe_Setup/TPC/20201108/Vacuum_Au-Thorslabs_C-300V_A-300V_1.h5\n",
      " | Number of files in ch1...\t 31/31\n",
      " | Number of files in ch2...\t 31/31\n",
      " | Processing data in channel 1...\n",
      " | Processing data in channel 2...\n",
      " | Time elapsed:  16.030212434 sec\n"
     ]
    }
   ],
   "source": [
    "D2 = Dataset.Dataset(Path='/project/fas/david_moore/aj487/Data_WL110/LXe_Setup/TPC/20201108/', Selection='*')\n",
    "D2.RunStandardAnalysis()"
   ]
  },
  {
   "cell_type": "code",
   "execution_count": 5,
   "metadata": {},
   "outputs": [
    {
     "data": {
      "image/png": "[encoded data removed]",
      "text/plain": [
       "<Figure size 576x432 with 1 Axes>"
      ]
     },
     "metadata": {
      "needs_background": "light"
     },
     "output_type": "display_data"
    },
    {
     "data": {
      "image/png": "[encoded data removed]",
      "text/plain": [
       "<Figure size 576x432 with 1 Axes>"
      ]
     },
     "metadata": {
      "needs_background": "light"
     },
     "output_type": "display_data"
    }
   ],
   "source": [
    "D1.ShowChargeCollection()\n",
    "D2.ShowChargeCollection()"
   ]
  },
  {
   "cell_type": "code",
   "execution_count": null,
   "metadata": {},
   "outputs": [],
   "source": []
  }
 ],
 "metadata": {
  "kernelspec": {
   "display_name": "Python 3",
   "language": "python",
   "name": "python3"
  },
  "language_info": {
   "codemirror_mode": {
    "name": "ipython",
    "version": 3
   },
   "file_extension": ".py",
   "mimetype": "text/x-python",
   "name": "python",
   "nbconvert_exporter": "python",
   "pygments_lexer": "ipython3",
   "version": "3.7.3"
  }
 },
 "nbformat": 4,
 "nbformat_minor": 2
}
